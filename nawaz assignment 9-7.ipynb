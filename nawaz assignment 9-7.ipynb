{
 "cells": [
  {
   "cell_type": "code",
   "execution_count": 1,
   "metadata": {},
   "outputs": [
    {
     "name": "stdout",
     "output_type": "stream",
     "text": [
      "14569"
     ]
    }
   ],
   "source": [
    "#question 1\n",
    "lsd = [1,4,5,6,9]\n",
    "for i in lsd:\n",
    "    print(i,end=\"\")"
   ]
  },
  {
   "cell_type": "code",
   "execution_count": 2,
   "metadata": {},
   "outputs": [
    {
     "name": "stdout",
     "output_type": "stream",
     "text": [
      "4 6 "
     ]
    }
   ],
   "source": [
    "#question 2\n",
    "lsd \n",
    "for i in range(len(lsd)):\n",
    "    if lsd[i]%2==0:\n",
    "        print(lsd[i],end=\" \")"
   ]
  },
  {
   "cell_type": "code",
   "execution_count": 3,
   "metadata": {},
   "outputs": [
    {
     "name": "stdout",
     "output_type": "stream",
     "text": [
      "1 4 3 16 5 "
     ]
    }
   ],
   "source": [
    "#question 3\n",
    "lsd=[1,2,3,4,5]\n",
    "for i in range(len(lsd)):\n",
    "    if lsd[i]%2==0:\n",
    "        print(lsd[i]*lsd[i],end=\" \")\n",
    "    elif lsd[i]%2!=0:\n",
    "        print(lsd[i],end=\" \")"
   ]
  },
  {
   "cell_type": "code",
   "execution_count": 5,
   "metadata": {},
   "outputs": [
    {
     "name": "stdout",
     "output_type": "stream",
     "text": [
      "19 34 31 28 20 "
     ]
    }
   ],
   "source": [
    "#question 4\n",
    "lsd=[15,19,12,16,4]\n",
    "for i in range(len(lsd)):\n",
    "    print(lsd[i]+lsd[i-1],end=\" \")"
   ]
  },
  {
   "cell_type": "code",
   "execution_count": null,
   "metadata": {},
   "outputs": [],
   "source": []
  }
 ],
 "metadata": {
  "kernelspec": {
   "display_name": "Python 3",
   "language": "python",
   "name": "python3"
  },
  "language_info": {
   "codemirror_mode": {
    "name": "ipython",
    "version": 3
   },
   "file_extension": ".py",
   "mimetype": "text/x-python",
   "name": "python",
   "nbconvert_exporter": "python",
   "pygments_lexer": "ipython3",
   "version": "3.7.3"
  }
 },
 "nbformat": 4,
 "nbformat_minor": 2
}
