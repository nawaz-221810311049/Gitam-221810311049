{
 "cells": [
  {
   "cell_type": "code",
   "execution_count": 1,
   "metadata": {},
   "outputs": [
    {
     "name": "stdout",
     "output_type": "stream",
     "text": [
      "<class 'int'>\n",
      "<class 'str'>\n",
      "<class 'float'>\n"
     ]
    }
   ],
   "source": [
    "i=100\n",
    "print(type(i))\n",
    "s1=str(1) #str()converts the input to string type\n",
    "print(type(s1))\n",
    "f1=1.5\n",
    "print(type(f1))\n"
   ]
  },
  {
   "cell_type": "code",
   "execution_count": 2,
   "metadata": {},
   "outputs": [
    {
     "name": "stdout",
     "output_type": "stream",
     "text": [
      "<class 'str'>\n",
      "<class 'int'>\n",
      "<class 'int'>\n",
      "1\n"
     ]
    }
   ],
   "source": [
    "s1=\"100\"\n",
    "print(type(s1))\n",
    "a=int(s1)\n",
    "print(type(a))\n",
    "f=1.5\n",
    "a1=int(f)\n",
    "print (type(a1))\n",
    "print(a1)"
   ]
  },
  {
   "cell_type": "code",
   "execution_count": null,
   "metadata": {},
   "outputs": [],
   "source": [
    "s1 = input(\"enter your name\")\n",
    "print(s1)\n",
    "print(type(s1))\n"
   ]
  },
  {
   "cell_type": "code",
   "execution_count": null,
   "metadata": {},
   "outputs": [],
   "source": [
    "n1 = int(input(\"enter a number\"))\n",
    "print(n1,type(n1))"
   ]
  },
  {
   "cell_type": "code",
   "execution_count": null,
   "metadata": {},
   "outputs": [],
   "source": [
    "n1 = 1234\n",
    "print(n1+10)\n",
    "print(n1-10)\n",
    "print(n1*10)\n",
    "print(n1/10) #returns coeff in float\n",
    "print(n1%10) #returns remainder\n",
    "print(n1//10) #returns coeff\n",
    "print(n1**10) #returns power"
   ]
  },
  {
   "cell_type": "code",
   "execution_count": null,
   "metadata": {},
   "outputs": [],
   "source": [
    "x = 1+2**3/4*5\n",
    "print(x)\n"
   ]
  },
  {
   "cell_type": "code",
   "execution_count": null,
   "metadata": {},
   "outputs": [],
   "source": [
    "n = int(input(\"Enter the number\"))\n",
    "if n==0:\n",
    "    print(\"Zero\")\n",
    "elif n>0:\n",
    "    print(\"positive number\")\n",
    "elif n<0:\n",
    "    print(\"negative number\")"
   ]
  },
  {
   "cell_type": "code",
   "execution_count": null,
   "metadata": {},
   "outputs": [],
   "source": [
    "a1 = int(input(\"enter the first number\"))\n",
    "a2 = int(input(\"enter the second number\"))\n",
    "a3 = int(input(\"enter the third number\"))\n",
    "\n",
    "if a1>a2 and a1>a3:\n",
    "    print(a1,\"is the largest number\")\n",
    "elif a2>a1 and a2>a3\n",
    "    print (a2,\"isthe largest number\")\n",
    "elif\n",
    "    print (a3,\"is te largest number\")\n",
    "    "
   ]
  },
  {
   "cell_type": "code",
   "execution_count": null,
   "metadata": {},
   "outputs": [],
   "source": [
    "def factorsList(n):\n",
    "    for i in range(1,n+1):\n",
    "        if n % i ==0:\n",
    "            print(i,end=\" \")\n",
    "    return\n",
    "factorsList(12)"
   ]
  },
  {
   "cell_type": "code",
   "execution_count": null,
   "metadata": {},
   "outputs": [],
   "source": [
    "def isPrime(n):\n",
    "    flag = True\n",
    "    for i in range(2,n//2+1):\n",
    "        if n % i == 0:\n",
    "            flag = False\n",
    "            return flag\n",
    "        return flag\n",
    "    isPrime(11)"
   ]
  },
  {
   "cell_type": "code",
   "execution_count": null,
   "metadata": {},
   "outputs": [],
   "source": [
    "def primeCount(n):\n",
    "    cnt = 0\n",
    "    for a in range(2,n+1):\n",
    "        k = 0\n",
    "        for i in range(2,a//2+1):\n",
    "            if a % i == 0:\n",
    "                k = k + 1\n",
    "        if(k<=0):\n",
    "            cnt = cnt +1\n",
    "    return cnt\n",
    "primeCount(10)"
   ]
  },
  {
   "cell_type": "code",
   "execution_count": null,
   "metadata": {},
   "outputs": [],
   "source": [
    "def factorial(n):\n",
    "    fact = 1\n",
    "    for i in range(2,n+1):\n",
    "        fact *= i\n",
    "    return fact\n",
    "def digitFactSum(n):\n",
    "    sum = 0\n",
    "    buffer = n\n",
    "    while n != 0:\n",
    "        r = n % 10\n",
    "        sum += factorial(r)\n",
    "        n = n// 10\n",
    "    if sum == buffer:\n",
    "        return \"Yes\"\n",
    "    else:\n",
    "        return \"No\"\n",
    "    return\n",
    "print(digitFactSum(145))\n",
    "print(digitFactSum(123))        "
   ]
  },
  {
   "cell_type": "code",
   "execution_count": null,
   "metadata": {},
   "outputs": [],
   "source": [
    "#count of palindrome numbers\n",
    "def ispalindrome(n):\n",
    "    rev = 0\n",
    "    buffer = n\n",
    "    while n!= 0:\n",
    "        r = n % 10\n",
    "        rev = rev * 10 + r\n",
    "        n = n// 10\n",
    "    if rev == buffer:\n",
    "        return True\n",
    "    else:\n",
    "        return False\n",
    "    return\n",
    "\n",
    "def countpalindrome(lb,ub):\n",
    "    cnt = 0\n",
    "    while lb!= ub:\n",
    "        if ispalindrome(lb) ==  True:\n",
    "            cnt = cnt + 1\n",
    "        lb = lb + 1\n",
    "    return cnt\n",
    "countpalindrome(1,10)"
   ]
  },
  {
   "cell_type": "code",
   "execution_count": null,
   "metadata": {},
   "outputs": [],
   "source": [
    "#to generate perfect number\n",
    "def factorsList(n):\n",
    "    sum = 0\n",
    "    for i in range(1,n//2+1):\n",
    "        if n % i ==0:\n",
    "            sum = sum + i\n",
    "    return sum\n",
    "def isPerfect(n):\n",
    "    if factorsList(n) == n:\n",
    "        return True\n",
    "    return False\n",
    "def generatePerfect(lb,ub):\n",
    "    for x in range(lb//ub+1):\n",
    "        if isPerfect(x):\n",
    "            print(x,end = \" \")\n",
    "    print()\n",
    "    returnyoutub\n",
    "generatePerfect(1,100)\n"
   ]
  },
  {
   "cell_type": "code",
   "execution_count": null,
   "metadata": {},
   "outputs": [],
   "source": [
    "a,b,c = range(1,12,4)\n",
    "print (c)\n",
    "print (a)\n",
    "print (b)"
   ]
  },
  {
   "cell_type": "code",
   "execution_count": null,
   "metadata": {},
   "outputs": [],
   "source": [
    "s1 = 'python'\n",
    "print (s1[0])\n",
    "print (s1[2])\n",
    "print (s1[len (s1)-1])\n",
    "print (s1[:2])\n",
    "print (s1[-2:])\n",
    "print (s1[2:])"
   ]
  },
  {
   "cell_type": "code",
   "execution_count": null,
   "metadata": {},
   "outputs": [],
   "source": [
    "#A-Z 65 to 90\n",
    "#a to z 97 to 122\n",
    "\n",
    "def printUpper(x):\n",
    "    for i in range(len(x)):\n",
    "        if ord(x[i]) >= 65 and ord(x[i]) <= 90:\n",
    "            print(x[i],end = \" \")\n",
    "    return\n",
    "printUpper(\"PyTHoN\")"
   ]
  },
  {
   "cell_type": "code",
   "execution_count": null,
   "metadata": {},
   "outputs": [],
   "source": [
    "#to print \"python\" if the count of upper and lower case is same\n",
    "def findCount(str):\n",
    "    cntupper = 0\n",
    "    cntlower = 0\n",
    "    for x in range(len(str)):\n",
    "        if ord(str[x]) >=6 and ord(str[x]) <=90:\n",
    "            cntupper\n",
    "    return"
   ]
  },
  {
   "cell_type": "code",
   "execution_count": null,
   "metadata": {},
   "outputs": [],
   "source": []
  },
  {
   "cell_type": "code",
   "execution_count": null,
   "metadata": {},
   "outputs": [],
   "source": [
    "str = \"gitam engineering college\"\n",
    "print(str[len(str):-5])"
   ]
  },
  {
   "cell_type": "code",
   "execution_count": null,
   "metadata": {},
   "outputs": [],
   "source": [
    "def extractDigits(str):\n",
    "    for x in range(len(str)):\n",
    "        if ord(str[x]) >= 48 and ord(str[x]) <= 57:\n",
    "            print(str[x],end=\" \")\n",
    "    return\n",
    "extractDigits(\"application45lm\")"
   ]
  },
  {
   "cell_type": "code",
   "execution_count": null,
   "metadata": {
    "scrolled": true
   },
   "outputs": [],
   "source": [
    "#to return sum of digits in extract digits\n",
    "def sumDigits(str):\n",
    "    sum = 0\n",
    "    for x in range(len(str)):\n",
    "        if ord(str[x]) >= 48 and ord(str[x]) <= 57:\n",
    "            sum = sum + (ord(str[x])-48)\n",
    "    return sum\n",
    "sumDigits('lm23ao8')\n"
   ]
  },
  {
   "cell_type": "code",
   "execution_count": null,
   "metadata": {},
   "outputs": [],
   "source": [
    "def sumevenDigits(str):\n",
    "    sum = 0\n",
    "    for x in range(len(str)):\n",
    "        if ord(str[x]) >= 48 and ord(str[x]) <= 57:\n",
    "            if (ord(str[x]) - 48) % 2 == 0:\n",
    "                sum = sum + (ord(str[x])-48)\n",
    "    return sum\n",
    "sumevenDigits('lm2a5o8')\n"
   ]
  },
  {
   "cell_type": "code",
   "execution_count": 9,
   "metadata": {},
   "outputs": [],
   "source": [
    "def wordUpperCase(s):\n",
    "    spaceCnt = 0\n",
    "    for x in range(len(s)):        \n",
    "        if ord(s[x]) == 32:\n",
    "            spaceCnt += 1 # spaceCnt = spaceCnt + 1           \n",
    "        if spaceCnt == 1:\n",
    "            if ord(s[x]) >= 65 and ord(s[x]) <= 90:\n",
    "                print(s[x],end=\"\")\n",
    "            elif ord(s[x]) >= 97 and ord(s[x]) <= 122 :\n",
    "                print(chr(ord(s[x])-32),end=\"\")\n",
    "        if spaceCnt == 2:\n",
    "            break\n",
    "    return"
   ]
  },
  {
   "cell_type": "code",
   "execution_count": 1,
   "metadata": {},
   "outputs": [
    {
     "data": {
      "text/plain": [
       "124"
      ]
     },
     "execution_count": 1,
     "metadata": {},
     "output_type": "execute_result"
    }
   ],
   "source": [
    "ord('a')+3**3"
   ]
  },
  {
   "cell_type": "code",
   "execution_count": null,
   "metadata": {},
   "outputs": [],
   "source": [
    "day 8 (09-07-2019)"
   ]
  },
  {
   "cell_type": "code",
   "execution_count": 19,
   "metadata": {},
   "outputs": [
    {
     "name": "stdout",
     "output_type": "stream",
     "text": [
      "[1, 2, 3, 4, 5]\n",
      "1\n",
      "2\n",
      "5\n",
      "4\n",
      "[2, 3, 4, 5]\n",
      "[2, 3, 4]\n"
     ]
    }
   ],
   "source": [
    "lst = [1,2,3,4,5]\n",
    "print(lst)\n",
    "print(lst[0])\n",
    "print(lst[1])\n",
    "print(lst[-1])\n",
    "print(lst[-2])\n",
    "print(lst[1:])\n",
    "print(lst[1:4])\n"
   ]
  },
  {
   "cell_type": "code",
   "execution_count": 22,
   "metadata": {},
   "outputs": [
    {
     "name": "stdout",
     "output_type": "stream",
     "text": [
      "5\n",
      "[1, 2, 3, 4, 5, 1, 2, 3, 4, 5]\n",
      "True\n",
      "False\n",
      "1 2 3 4 5 "
     ]
    }
   ],
   "source": [
    "lst = [1,2,3,4,5]\n",
    "print(len(lst))\n",
    "print(lst*2) #repeatation\n",
    "print(5 in lst)\n",
    "print(15 in lst)\n",
    "#access list items using iteration\n",
    "for x in range(len(lst)):\n",
    "    print(lst[x],end=' ')\n",
    "\n"
   ]
  },
  {
   "cell_type": "code",
   "execution_count": 24,
   "metadata": {},
   "outputs": [
    {
     "name": "stdout",
     "output_type": "stream",
     "text": [
      "1\n",
      "5\n",
      "15\n",
      "3.0\n"
     ]
    }
   ],
   "source": [
    "#functions of the list\n",
    "lst\n",
    "print(min(lst)) #min elements of the list\n",
    "print(max(lst)) #max elements of the list\n",
    "print(sum(lst)) #sum of elements of the list\n",
    "print(sum(lst)/len(lst)) #Avg elements of the list"
   ]
  },
  {
   "cell_type": "code",
   "execution_count": 31,
   "metadata": {},
   "outputs": [
    {
     "data": {
      "text/plain": [
       "[1,\n",
       " 2,\n",
       " 2,\n",
       " 3,\n",
       " 4,\n",
       " 5,\n",
       " 35,\n",
       " 35,\n",
       " 35,\n",
       " 35,\n",
       " 35,\n",
       " 78,\n",
       " 78,\n",
       " 78,\n",
       " 78,\n",
       " 78,\n",
       " 78,\n",
       " 78,\n",
       " 123,\n",
       " 123,\n",
       " 123,\n",
       " 123,\n",
       " 123,\n",
       " 789,\n",
       " 789,\n",
       " 789,\n",
       " 789,\n",
       " 789,\n",
       " 123,\n",
       " 35,\n",
       " 789]"
      ]
     },
     "execution_count": 31,
     "metadata": {},
     "output_type": "execute_result"
    }
   ],
   "source": [
    "lst\n",
    "lst.append(2)#adding a new element to the end of the list\n",
    "lst\n",
    "lst.insert(5,78)#adding a new elemnt at a particular index\n",
    "lst\n",
    "lst.count(4)#return the value of how many times the objectis repeated\n",
    "lst.index(78)\n",
    "lst.sort()#sort in ascending order\n",
    "lst\n",
    "lst.pop(1)\n",
    "lst2 = [123,35,789]\n",
    "lst.extend(lst2)#merge lst2 into lst\n",
    "lst"
   ]
  },
  {
   "cell_type": "code",
   "execution_count": 34,
   "metadata": {
    "scrolled": true
   },
   "outputs": [
    {
     "name": "stdout",
     "output_type": "stream",
     "text": [
      "[3, 2]\n",
      "[]\n",
      "[9]\n",
      "[]\n"
     ]
    }
   ],
   "source": [
    "li = [1,9,8,2,6,3]\n",
    "print(li[-1:2:-2])\n",
    "print(li[-1:2:2])\n",
    "print(li[1:2:2])\n",
    "print(li[1:2:-2])"
   ]
  },
  {
   "cell_type": "code",
   "execution_count": 50,
   "metadata": {
    "scrolled": true
   },
   "outputs": [
    {
     "name": "stdout",
     "output_type": "stream",
     "text": [
      "[1, 2, 3, 6, 8, 9, 18]\n",
      "[1, 2, 3, 8, 9, 18]\n"
     ]
    }
   ],
   "source": [
    "lst\n",
    "print(lst)\n",
    "lst.remove(6)\n",
    "print(lst)\n"
   ]
  },
  {
   "cell_type": "code",
   "execution_count": 48,
   "metadata": {},
   "outputs": [
    {
     "data": {
      "text/plain": [
       "9"
      ]
     },
     "execution_count": 48,
     "metadata": {},
     "output_type": "execute_result"
    }
   ],
   "source": [
    "#function to find second largest item from the list\n",
    "#input : (1,9,6,2,8,18,3)\n",
    "#output: 18\n",
    "def secondLarge(lst):\n",
    "    lst.sort()\n",
    "    return lst[-2]\n",
    "lst=[1,9,6,2,8,18,3]\n",
    "secondLarge(lst)"
   ]
  },
  {
   "cell_type": "code",
   "execution_count": null,
   "metadata": {},
   "outputs": [],
   "source": []
  },
  {
   "cell_type": "code",
   "execution_count": null,
   "metadata": {},
   "outputs": [],
   "source": []
  }
 ],
 "metadata": {
  "kernelspec": {
   "display_name": "Python 3",
   "language": "python",
   "name": "python3"
  },
  "language_info": {
   "codemirror_mode": {
    "name": "ipython",
    "version": 3
   },
   "file_extension": ".py",
   "mimetype": "text/x-python",
   "name": "python",
   "nbconvert_exporter": "python",
   "pygments_lexer": "ipython3",
   "version": "3.7.3"
  },
  "widgets": {
   "application/vnd.jupyter.widget-state+json": {
    "state": {},
    "version_major": 2,
    "version_minor": 0
   }
  }
 },
 "nbformat": 4,
 "nbformat_minor": 2
}
