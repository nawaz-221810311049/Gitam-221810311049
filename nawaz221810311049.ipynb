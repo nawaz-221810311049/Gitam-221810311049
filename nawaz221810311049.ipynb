{
 "cells": [
  {
   "cell_type": "markdown",
   "metadata": {},
   "source": [
    "### 6/07"
   ]
  },
  {
   "cell_type": "code",
   "execution_count": 1,
   "metadata": {},
   "outputs": [
    {
     "name": "stdout",
     "output_type": "stream",
     "text": [
      "<class 'int'>\n",
      "<class 'str'>\n",
      "<class 'float'>\n"
     ]
    }
   ],
   "source": [
    "i = 100\n",
    "f1 = 1.5\n",
    "print(type(i))\n",
    "s1 = str(1) # str() converts the input into string type\n",
    "print(type(s1))\n",
    "f = float(i)\n",
    "print(type(f1))"
   ]
  },
  {
   "cell_type": "code",
   "execution_count": 2,
   "metadata": {},
   "outputs": [
    {
     "name": "stdout",
     "output_type": "stream",
     "text": [
      "<class 'str'>\n",
      "<class 'int'>\n",
      "<class 'int'>\n",
      "1\n"
     ]
    }
   ],
   "source": [
    "s1 = \"100\"\n",
    "print(type(s1))\n",
    "a = int(s1)\n",
    "print(type(a))\n",
    "f = 1.5\n",
    "a1 = int(f)\n",
    "print(type(a1))\n",
    "print(a1)"
   ]
  },
  {
   "cell_type": "code",
   "execution_count": 3,
   "metadata": {},
   "outputs": [
    {
     "name": "stdout",
     "output_type": "stream",
     "text": [
      "4\n"
     ]
    }
   ],
   "source": [
    "a1 = 1234\n",
    "print(len(str(a1)))"
   ]
  },
  {
   "cell_type": "code",
   "execution_count": 4,
   "metadata": {},
   "outputs": [
    {
     "name": "stdout",
     "output_type": "stream",
     "text": [
      "Enter your name: adil\n",
      "adil\n",
      "<class 'str'>\n"
     ]
    }
   ],
   "source": [
    "s1 = input(\"Enter your name: \")\n",
    "print(s1)\n",
    "print(type(s1))"
   ]
  },
  {
   "cell_type": "code",
   "execution_count": 5,
   "metadata": {},
   "outputs": [
    {
     "name": "stdout",
     "output_type": "stream",
     "text": [
      "Enter a number123\n",
      "123 <class 'int'>\n"
     ]
    }
   ],
   "source": [
    "n1 = int(input(\"Enter a number\"))\n",
    "print(n1, type(n1))"
   ]
  },
  {
   "cell_type": "code",
   "execution_count": 6,
   "metadata": {},
   "outputs": [
    {
     "name": "stdout",
     "output_type": "stream",
     "text": [
      "1244\n",
      "1224\n",
      "12340\n",
      "123.4\n",
      "4\n",
      "123\n",
      "8187505353567209228244052427776\n"
     ]
    }
   ],
   "source": [
    "n1 = 1234\n",
    "print(n1+10)\n",
    "print(n1-10)\n",
    "print(n1*10)\n",
    "print(n1/10) #returns coefficient in float\n",
    "print(n1%10) #returns remainder in int\n",
    "print(n1//10) #returns coefficient in int\n",
    "print(n1**10) #returns the power of the number"
   ]
  },
  {
   "cell_type": "code",
   "execution_count": 7,
   "metadata": {},
   "outputs": [
    {
     "name": "stdout",
     "output_type": "stream",
     "text": [
      "8.0\n"
     ]
    }
   ],
   "source": [
    "x = 1 + 2 ** 3 / 4 + 5\n",
    "print(x)"
   ]
  },
  {
   "cell_type": "code",
   "execution_count": 8,
   "metadata": {},
   "outputs": [
    {
     "name": "stdout",
     "output_type": "stream",
     "text": [
      "11.0\n"
     ]
    }
   ],
   "source": [
    "x = 1 + 2 ** 3 / 4 * 5\n",
    "print(x)"
   ]
  },
  {
   "cell_type": "code",
   "execution_count": 9,
   "metadata": {},
   "outputs": [
    {
     "name": "stdout",
     "output_type": "stream",
     "text": [
      "Enter a number123\n",
      "No\n"
     ]
    }
   ],
   "source": [
    "n = int(input(\"Enter a number\"))\n",
    "if n%3 == 0 and n%5 == 0:\n",
    "    print(\"Yes\")\n",
    "else:\n",
    "    print(\"No\")"
   ]
  },
  {
   "cell_type": "code",
   "execution_count": 10,
   "metadata": {},
   "outputs": [
    {
     "name": "stdout",
     "output_type": "stream",
     "text": [
      "Enter a number123\n",
      "Positive number\n"
     ]
    }
   ],
   "source": [
    "n = int(input(\"Enter a number\"))\n",
    "if n == 0:\n",
    "    print(\"Zero\")\n",
    "elif n>0:\n",
    "    print(\"Positive number\")\n",
    "elif n < 0:\n",
    "    print(\"Negative number\")"
   ]
  },
  {
   "cell_type": "code",
   "execution_count": 11,
   "metadata": {},
   "outputs": [
    {
     "name": "stdout",
     "output_type": "stream",
     "text": [
      "Enter the first number 123\n",
      "Enter the second number 123\n",
      "Enter the third number 123\n",
      "123  is the largest number\n"
     ]
    }
   ],
   "source": [
    "a1 = int(input(\"Enter the first number \"))\n",
    "a2 = int(input(\"Enter the second number \"))\n",
    "a3 = int(input(\"Enter the third number \"))\n",
    "\n",
    "if a1>a2 and a1>a3:\n",
    "    print(a1, \" is the largest number \" )\n",
    "elif a2>a1 and a2>a3:\n",
    "    print(a2, \" is the largest number \")\n",
    "else:\n",
    "    print(a3, \" is the largest number\")"
   ]
  },
  {
   "cell_type": "code",
   "execution_count": null,
   "metadata": {},
   "outputs": [
    {
     "name": "stdout",
     "output_type": "stream",
     "text": [
      "Enter the year1234\n",
      "Not a leap year\n"
     ]
    }
   ],
   "source": [
    "year = int(input(\"Enter the year\"))\n",
    "if year % 400 == 0 or (year % 100 != 0 and year % 4 == 0):\n",
    "    print(\"Leap year\")\n",
    "else:\n",
    "    print(\"Not a leap year\")"
   ]
  },
  {
   "cell_type": "markdown",
   "metadata": {},
   "source": [
    "#### Iteration\n",
    "- while\n",
    "- for\n",
    "- Syntax: while Boolean_Condition : \n",
    "statements \n",
    "- Increment / Decrement "
   ]
  },
  {
   "cell_type": "markdown",
   "metadata": {},
   "source": [
    "x = 0\n",
    "while x<5:\n",
    "    print(\"Gitam\")\n",
    "    x = x+1"
   ]
  },
  {
   "cell_type": "code",
   "execution_count": null,
   "metadata": {},
   "outputs": [
    {
     "name": "stdout",
     "output_type": "stream",
     "text": [
      "GITAM\n",
      "GITAM\n",
      "GITAM\n",
      "GITAM\n",
      "GITAM\n"
     ]
    }
   ],
   "source": [
    "x = 0\n",
    "while x<5:\n",
    "    print(\"GITAM\")\n",
    "    x = x+1"
   ]
  },
  {
   "cell_type": "code",
   "execution_count": null,
   "metadata": {},
   "outputs": [
    {
     "name": "stdout",
     "output_type": "stream",
     "text": [
      "Enter a number1\n",
      "1 "
     ]
    }
   ],
   "source": [
    "# Print N Natural numbers using while loop\n",
    "# Input - 10\n",
    "# Output - 1 2 3 ..... 10\n",
    "n = int(input(\"Enter a number\"))\n",
    "i = 1\n",
    "while i <= n :\n",
    "    print(i, end = \" \")\n",
    "    i = i + 1"
   ]
  },
  {
   "cell_type": "code",
   "execution_count": null,
   "metadata": {},
   "outputs": [
    {
     "name": "stdout",
     "output_type": "stream",
     "text": [
      "Enter a number 1\n",
      "0\n"
     ]
    }
   ],
   "source": [
    "# Read a Number -- n\n",
    "# Add only even numbers between 1 to n\n",
    "# Input -- 10\n",
    "# Output -- 30(2 + 4 + 6 + 8 + 10)\n",
    "n = int(input('Enter a number '))\n",
    "i = 1\n",
    "sum = 0\n",
    "while i <= n:\n",
    "    if i % 2 == 0:\n",
    "        sum =  sum + i\n",
    "    i = i + 1\n",
    "\n",
    "print(sum)"
   ]
  },
  {
   "cell_type": "code",
   "execution_count": null,
   "metadata": {},
   "outputs": [
    {
     "name": "stdout",
     "output_type": "stream",
     "text": [
      "Enter a number 1\n",
      "1"
     ]
    }
   ],
   "source": [
    "# Number as a Number -- 123\n",
    "# Print the digits of given number : 3 2 1\n",
    "n = int(input('Enter a number '))\n",
    "while n != 0:\n",
    "    r = n % 10\n",
    "    print(r,end = \"\")\n",
    "    n = n // 10"
   ]
  },
  {
   "cell_type": "markdown",
   "metadata": {},
   "source": [
    "### 8/7\n",
    "##### Functional Programming\n",
    "- Simple\n",
    "- Easy read\n",
    "- Lengthy program divides into sub programs"
   ]
  },
  {
   "cell_type": "markdown",
   "metadata": {},
   "source": [
    "#### Syntax of a function\n",
    "- def nameoftheFunction(<Parameters>):\n",
    "-     Statements\n",
    "-     return"
   ]
  },
  {
   "cell_type": "code",
   "execution_count": null,
   "metadata": {},
   "outputs": [],
   "source": [
    "def addEvenDigits(n):\n",
    "    i = 1\n",
    "    sum = 0\n",
    "    while i <= n:\n",
    "        if(i%2 == 0):\n",
    "            sum = sum + i\n",
    "            i = i + 1\n",
    "    return\n",
    "addEvenDigits(1234)"
   ]
  },
  {
   "cell_type": "code",
   "execution_count": null,
   "metadata": {},
   "outputs": [],
   "source": [
    "# Read a number -- 19528\n",
    "# Print the large digit print the number\n",
    "def printLarge(n):\n",
    "    large = 0\n",
    "    while n != 0:\n",
    "        r = n % 10\n",
    "        if large < r:\n",
    "            large = r\n",
    "        n = n // 10\n",
    "    return large\n",
    "printLarge(19528)"
   ]
  },
  {
   "cell_type": "code",
   "execution_count": null,
   "metadata": {},
   "outputs": [],
   "source": [
    "# Read a number -- 19528\n",
    "# Print the large digit print the number\n",
    "def printLarge(n):\n",
    "    large = 0\n",
    "    while n != 0:\n",
    "        r = n % 10\n",
    "        if large < r:\n",
    "            large = r\n",
    "        n = n // 10\n",
    "    return large\n",
    "printLarge(19528)"
   ]
  },
  {
   "cell_type": "code",
   "execution_count": null,
   "metadata": {},
   "outputs": [],
   "source": [
    "# Read a number Input\n",
    "# Output reverse of the given number\n",
    "# 123 -- 321\n",
    "def reverseNumber(n):\n",
    "    rev = 0\n",
    "    while n != 0:\n",
    "        r = n % 10\n",
    "        rev = rev * 10 + r\n",
    "        n = n // 10\n",
    "    return rev\n",
    "reverseNumber(123)"
   ]
  },
  {
   "cell_type": "code",
   "execution_count": null,
   "metadata": {},
   "outputs": [],
   "source": [
    "# Given number is palidrome or not\n",
    "# input\n",
    "# 123 -- 321  -- No\n",
    "# 121 -- 121  -- Yes\n",
    "def isPalindrome(n):\n",
    "    rev = 0\n",
    "    buffer = n\n",
    "    while n != 0:\n",
    "        r = n % 10\n",
    "        rev = rev * 10 + r\n",
    "        n = n // 10\n",
    "    if buffer == rev:\n",
    "        return \"Yes\"\n",
    "    else:\n",
    "        return \"No\"\n",
    "\n",
    "print(isPalindrome(123))\n",
    "print(isPalindrome(121))"
   ]
  },
  {
   "cell_type": "code",
   "execution_count": null,
   "metadata": {},
   "outputs": [],
   "source": [
    "#Function to print N Natural numbers with for loop\n",
    "def printNNaturalNumbers(n):\n",
    "    for x in range(1,n+1):\n",
    "        print(x,end=\" \")\n",
    "    return\n",
    "printNNaturalNumbers(10)"
   ]
  },
  {
   "cell_type": "code",
   "execution_count": null,
   "metadata": {},
   "outputs": [],
   "source": [
    "# Function to print the numbers between two limits\n",
    "# input : 11,25 \n",
    "# Output: 11 12 13 ............. 25\n",
    "def printSeries(lb,ub):\n",
    "    for x in range(lb,ub+1):\n",
    "        print(x,end=\" \")\n",
    "    return \n",
    "printSeries(11,25)"
   ]
  },
  {
   "cell_type": "code",
   "execution_count": null,
   "metadata": {},
   "outputs": [],
   "source": [
    "# Function to print alternate numbers\n",
    "# [500,520] -- 500 502 504 506 508 .... 520\n",
    "# [100,150] -- 100 104 108 112 116\n",
    "def alternateNumbers(lb,ub):\n",
    "    for x in range(lb,ub+1,4):\n",
    "        print(x,end=\" \")\n",
    "    return\n",
    "alternateNumbers(100,150)"
   ]
  },
  {
   "cell_type": "code",
   "execution_count": null,
   "metadata": {},
   "outputs": [],
   "source": [
    "# Function to print the series in reverse\n",
    "# Input -- 1,10 \n",
    "# Output : 10 9 8 7 6 .... 1\n",
    "def reverseRange(start,end):\n",
    "    for x in range(end,start-1,-1):\n",
    "        print(x,end =\" \")\n",
    "    return\n",
    "reverseRange(1,10)"
   ]
  },
  {
   "cell_type": "markdown",
   "metadata": {},
   "source": [
    "### 9/7\n",
    "### Day Objectives\n",
    "- Python Data Structures\n",
    "    - Lists\n",
    "    - Tuples\n",
    "    - Dictionaries\n",
    "- Basic Program sets on Data Structures\n",
    "- Advanced Problem set\n",
    "- Contact Application(Dictionary object)\n",
    "\n",
    "#### Data Structures:\n",
    "- To store, Search and Sort the data\n",
    "#### Python Data Structures\n",
    "###### Lists\n",
    "- It's one of common data structures supports by Python, the list items are seperated by comma operator and enclosed in square brackets\n",
    "    - Example:\n",
    "        - list1 = [1,6,2,18,9]\n",
    "        - list2 = [\"Gitam\",10,12,15.5,\"Hyderabad\"]"
   ]
  },
  {
   "cell_type": "code",
   "execution_count": null,
   "metadata": {},
   "outputs": [],
   "source": [
    "lst = [1,2,3,4,5,6]\n",
    "print(lst)\n",
    "print(lst[0])\n",
    "print(lst[1])\n",
    "print(lst[-1])\n",
    "print(lst[-2])\n",
    "print(lst[1:])\n",
    "print(lst[1:4])"
   ]
  },
  {
   "cell_type": "code",
   "execution_count": null,
   "metadata": {},
   "outputs": [],
   "source": [
    "# Update the list item values using index (Direct Referencing)\n",
    "li = [\"GITAM\", \"Python\", 911, 2001]\n",
    "print(li)\n",
    "li[2] = 2019\n",
    "print(li)"
   ]
  },
  {
   "cell_type": "code",
   "execution_count": null,
   "metadata": {},
   "outputs": [],
   "source": [
    "# Delete the specific item in the list\n",
    "print(li)\n",
    "del li[2]\n",
    "print(li)"
   ]
  },
  {
   "cell_type": "code",
   "execution_count": null,
   "metadata": {},
   "outputs": [],
   "source": [
    "# Basic list operations\n",
    "lst1 = [0,7,4,10,12]\n",
    "print(len(lst1)) # Length of the list\n",
    "print(lst1 * 2) # Repetition\n",
    "print(len(lst1))\n",
    "print( 4 in lst1) # List item is present or not\n",
    "print(15 in lst1)\n",
    "# Access the list items using iteration\n",
    "for x in range(len(lst1)):\n",
    "    print(lst1[x], end=' ')"
   ]
  },
  {
   "cell_type": "code",
   "execution_count": null,
   "metadata": {},
   "outputs": [],
   "source": [
    "# Function of the list\n",
    "lst1\n",
    "print(min(lst1)) # Min element of the list\n",
    "print(max(lst1)) # Max element of the list\n",
    "print(sum(lst1)) # Sum of the elements of the list\n",
    "print(sum(lst1)//len(lst1)) # Average of list elements\n",
    "print(sum(lst1[1::2])/len(lst1[1::2])) # Average of all the alternative elements"
   ]
  },
  {
   "cell_type": "code",
   "execution_count": null,
   "metadata": {},
   "outputs": [],
   "source": [
    "# METHODS OF LIST OBJECT\n",
    "lst1\n",
    "lst1.append(69) # Adding a new element to the end of the list\n",
    "lst1\n",
    "lst1.insert(2, 56) # Adding a new element at a particular index\n",
    "lst1\n",
    "lst1.count(18) # return the value how many times the object repeated\n",
    "lst1.index(56)\n",
    "lst1.sort() # It's sort the list in ascending order\n",
    "lst1\n",
    "lst1.pop() # Remove the last element from the list\n",
    "lst1\n",
    "lst1.pop(1) # Remove an element from a particular index\n",
    "lst2 = [123, 23, 45]\n",
    "lst1.extend(lst2) # Merge lst2 into lst1\n",
    "lst1"
   ]
  },
  {
   "cell_type": "code",
   "execution_count": null,
   "metadata": {},
   "outputs": [],
   "source": [
    "li = [1,9,8,2,6,3]\n",
    "print(li[-1::-2])"
   ]
  },
  {
   "cell_type": "code",
   "execution_count": null,
   "metadata": {},
   "outputs": [],
   "source": [
    "lst1.remove(45)\n",
    "lst1"
   ]
  },
  {
   "cell_type": "code",
   "execution_count": null,
   "metadata": {},
   "outputs": [],
   "source": [
    "# Function to find the second largest item from the list\n",
    "# Input: (1,9,6,2,8,18,3)\n",
    "# Output: 18\n",
    "def secondLarge(li):\n",
    "    li.sort()\n",
    "    \n",
    "    return li[-2]\n",
    "li = [1,9,6,2,8,18,3]\n",
    "secondLarge(li)"
   ]
  },
  {
   "cell_type": "code",
   "execution_count": null,
   "metadata": {},
   "outputs": [],
   "source": [
    "def secondLeast(li):\n",
    "    li.sort()\n",
    "    return li[1]\n",
    "def genericLeast(li, n):\n",
    "    li.sort()\n",
    "    return li[n-1]\n",
    "li = [1,19,6,2,8,18,3]\n",
    "genericLeast(li,4)"
   ]
  },
  {
   "cell_type": "markdown",
   "metadata": {},
   "source": [
    "### Searching Algorithms\n",
    "- Linear Search\n",
    "- Binary Search\n",
    "\n",
    "#### Linear Search\n",
    "- Linear Search Algorithm can be applied on Duplicate and Unique List\n",
    "    - Unique List : The all item of the list is appeared only one\n",
    "    - Duplicate List : The items of the list can be appeared more than once\n",
    "- Linear Search Algorithm can be applied on Sorted list or Unsorted List"
   ]
  },
  {
   "cell_type": "code",
   "execution_count": null,
   "metadata": {},
   "outputs": [],
   "source": [
    "# Function to search the data in a list\n",
    "# Search is found then return the index if not return -1\n",
    "def linearSearch1(li,tarItem):\n",
    "    for x in range(len(li)):\n",
    "        if li[x] == tarItem:\n",
    "            return x\n",
    "    return -1\n",
    "li = [1,19,6,2,8,18,3]\n",
    "linearSearch1(li,225)"
   ]
  },
  {
   "cell_type": "code",
   "execution_count": null,
   "metadata": {},
   "outputs": [],
   "source": [
    "# Function\n",
    "# Input: [1,5,9,6,5,15,1,2,5], key = 5 (Duplicate)\n",
    "# Output: 1 4 8\n",
    "def linearSearch2(li, tarItem):\n",
    "    for x in range(len(li)):\n",
    "        if li[x] == tarItem:\n",
    "            print(x, end=\" \")\n",
    "        return\n",
    "li = [1,5,9,6,5,15,1,2,5]\n",
    "linearSearch2(li, 5) #1, 4, 8"
   ]
  },
  {
   "cell_type": "code",
   "execution_count": null,
   "metadata": {},
   "outputs": [],
   "source": [
    "# Fuction \n",
    "# Input : List\n",
    "# Ouput : Seq of characters\n",
    "# Test case\n",
    "# [1,5,9,6,5,15,1,2,5],tar=5 -- !! !!!!! !!!!!!!!!\n",
    "def linearSearch3(li,tarItem):\n",
    "    # Implement the logic\n",
    "    for x in range(len(li)):\n",
    "        if li[x] == tarItem:\n",
    "            j = 0\n",
    "            while j != x+1:\n",
    "                print(\"!\",end=\"\")\n",
    "                j = j + 1\n",
    "            print(end=\" \")\n",
    "    return\n",
    "li = [1,5,9,6,5,15,1,2,5]\n",
    "linearSearch3(li,5) # !! !!!!! !!!!!!!!!"
   ]
  },
  {
   "cell_type": "code",
   "execution_count": null,
   "metadata": {},
   "outputs": [],
   "source": [
    "# Function\n",
    "# Input : List\n",
    "# Output : Formatted\n",
    "# Test case:\n",
    "# [12,2,45,9,18,15,36] -- 60\n",
    "# A list item which is perfectly multiple of 3 and 5\n",
    "def linearSearch4(li):\n",
    "    sum = 0\n",
    "    for x in range(len(li)):\n",
    "        if li[x] % 3 == 0 and li[x] % 5 == 0:\n",
    "            sum += li[x] # sum = sum + li[x]\n",
    "    return sum\n",
    "li = [12,2,45,9,18,15,36]\n",
    "linearSearch4(li) # 60"
   ]
  },
  {
   "cell_type": "code",
   "execution_count": null,
   "metadata": {},
   "outputs": [],
   "source": [
    "# Function\n",
    "# Input  : List\n",
    "# Output : Formatted Output\n",
    "# Test Case :\n",
    "# [1,2,3,4,5] -- [1,3,8,15,5]\n",
    "# [6,5,2,8,2] -- [6,12,40,4,2]\n",
    "def linearSearch5(li):\n",
    "    for x in range(len(li)):\n",
    "        if x == 0 or x == len(li) - 1:\n",
    "            print(li[x],end=\" \")\n",
    "        else:\n",
    "            print(li[x-1]*li[x+1],end=\" \")\n",
    "    return\n",
    "li = [1,2,3,4,5]\n",
    "linearSearch5(li)"
   ]
  },
  {
   "cell_type": "code",
   "execution_count": null,
   "metadata": {},
   "outputs": [],
   "source": [
    "# Function\n",
    "# Input: List \n",
    "# Output: Formatted output\n",
    "# Test cases\n",
    "# [1, 6, 9, 4, 16, 19, 22] -- 1 9 19 22\n",
    "def linearSearch6(li):\n",
    "    for x in range(len(li)):\n",
    "        if x == 0 or x == len(li) - 1:\n",
    "            print(li[x], end=\" \")\n",
    "        elif li[x-1] % 2 == 0 and li[x+1] % 2 == 0:\n",
    "            print(li[x], end=\" \")\n",
    "    return\n",
    "li = [1,6,9,4,16,19,22]\n",
    "linearSearch6(li)"
   ]
  },
  {
   "cell_type": "markdown",
   "metadata": {},
   "source": [
    "### Number to List\n",
    "- Input as Number\n",
    "- Expected output will be list"
   ]
  },
  {
   "cell_type": "code",
   "execution_count": null,
   "metadata": {
    "scrolled": false
   },
   "outputs": [],
   "source": [
    "def numberListConversion(n):\n",
    "    li = []\n",
    "    while n != 0:\n",
    "        r = n % 10\n",
    "        li.append(r)\n",
    "        n = n // 10\n",
    "    li.reverse()\n",
    "    return li\n",
    "numberListConversion(14569)"
   ]
  },
  {
   "cell_type": "code",
   "execution_count": null,
   "metadata": {},
   "outputs": [],
   "source": [
    "# Function to count the occurrence of a character in a string\n",
    "# \"Python Programming\", p -> 2\n",
    "# \"Python Programming\", m-> 2\n",
    "def countCharacterOccurrances(s, c):\n",
    "    cnt = 0\n",
    "    for ch in s:\n",
    "        if ch == c:\n",
    "            cnt += 1\n",
    "    return cnt\n",
    "def countCharacterOccurrances(s, c):\n",
    "    return s.count(c)\n",
    "countCharacterOccurrances(\"Python Programming\", \"m\")"
   ]
  },
  {
   "cell_type": "code",
   "execution_count": null,
   "metadata": {},
   "outputs": [],
   "source": [
    "def bubbleSort(li):\n",
    "    for i in range(len(li) - 1):\n",
    "        for j in range(len(li) - 1):\n",
    "            if li[j] > li[j+1]:\n",
    "                li[j],li[j+1] = li[j+1], li[j]\n",
    "    return li\n",
    "li = [19, 1, 25, 6, 18, 3]\n",
    "bubbleSort(li)"
   ]
  },
  {
   "cell_type": "code",
   "execution_count": null,
   "metadata": {},
   "outputs": [],
   "source": [
    "# 9/7 assignment 1\n",
    "lsd = [1, 4, 5, 6, 9]\n",
    "for i in lsd:\n",
    "    print(i, end=\"\")"
   ]
  },
  {
   "cell_type": "code",
   "execution_count": null,
   "metadata": {},
   "outputs": [],
   "source": [
    "# 9/7 assignment 2\n",
    "lsd\n",
    "for i in range(len(lsd)):\n",
    "    if lsd[i] % 2 == 0:\n",
    "        print(lsd[i], end=\" \")"
   ]
  },
  {
   "cell_type": "code",
   "execution_count": null,
   "metadata": {},
   "outputs": [],
   "source": [
    "# 9/7 assignment 3\n",
    "lsd = [1, 2, 3, 4, 5]\n",
    "for i in range(len(lsd)):\n",
    "    if lsd[i] % 2 == 0:\n",
    "        print(lsd[i] * lsd[i], end=\" \")\n",
    "    elif lsd[i] % 2 != 0:\n",
    "        print(lsd[i], end=\" \")"
   ]
  },
  {
   "cell_type": "code",
   "execution_count": null,
   "metadata": {},
   "outputs": [],
   "source": [
    "# 9/7 assignment 4\n",
    "lisp = [15, 19, 12, 16, 4]\n",
    "print(lisp[0], end=\" \")\n",
    "for i in range(len(lisp) - 1):\n",
    "    print(lisp[i + 1] + lisp[i], end=\" \")"
   ]
  },
  {
   "cell_type": "markdown",
   "metadata": {},
   "source": [
    "### Tuples\n",
    "- t1 paranthesis() li square brackets[]\n",
    "- Differences between list and tuples\n",
    "    - Lists are mutable - can be changed or modified\n",
    "        - Used to access modify, Add, Delete data\n",
    "    - Tuples are immutable - cannot be cahnged\n",
    "        - Used to access data only"
   ]
  },
  {
   "cell_type": "code",
   "execution_count": null,
   "metadata": {
    "scrolled": true
   },
   "outputs": [],
   "source": [
    "t1 = (1, 2, 3, 4 ,5 ,6)\n",
    "t1\n",
    "type(t1)"
   ]
  },
  {
   "cell_type": "markdown",
   "metadata": {},
   "source": [
    "### 10/7\n",
    "### Data Structures\n",
    "- Dictionaries"
   ]
  },
  {
   "cell_type": "markdown",
   "metadata": {},
   "source": [
    "### Dictionaries\n",
    "- It works on the concept of Set Unique Data\n",
    "- Keys, values is the unique identifier for a value\n",
    "- Each key is seperated from it's value with a colon(:)\n",
    "- Each key and value is separated by a comma(,)\n",
    "- Dictionaries enclosed with curly braces({ })"
   ]
  },
  {
   "cell_type": "code",
   "execution_count": null,
   "metadata": {},
   "outputs": [],
   "source": [
    "d1 = {\"Name\":\"GITAM\",\"EmailID\":\"tutututututututututututu@gmail.com\",\"Address\":\"Hyderabad\"}\n",
    "print(d1)"
   ]
  },
  {
   "cell_type": "code",
   "execution_count": null,
   "metadata": {},
   "outputs": [],
   "source": [
    "d1[\"Name\"]"
   ]
  },
  {
   "cell_type": "code",
   "execution_count": null,
   "metadata": {},
   "outputs": [],
   "source": [
    "d1['EmailID'] = 'Gitam-python@gmail.com'\n",
    "d1['EmailID']"
   ]
  },
  {
   "cell_type": "code",
   "execution_count": null,
   "metadata": {},
   "outputs": [],
   "source": [
    "print(d1)"
   ]
  },
  {
   "cell_type": "code",
   "execution_count": null,
   "metadata": {},
   "outputs": [],
   "source": [
    "del d1[\"EmailID\"]"
   ]
  },
  {
   "cell_type": "code",
   "execution_count": null,
   "metadata": {},
   "outputs": [],
   "source": [
    "print(d1)"
   ]
  },
  {
   "cell_type": "code",
   "execution_count": null,
   "metadata": {},
   "outputs": [],
   "source": [
    "d1.keys() # Returns the list of keys"
   ]
  },
  {
   "cell_type": "code",
   "execution_count": null,
   "metadata": {},
   "outputs": [],
   "source": [
    " d1.values() # Returns the list of values"
   ]
  },
  {
   "cell_type": "code",
   "execution_count": null,
   "metadata": {},
   "outputs": [],
   "source": [
    "d1.items() # Returns the list of tuples of keys and values"
   ]
  },
  {
   "cell_type": "markdown",
   "metadata": {},
   "source": [
    "### Contact application \n",
    "- Add contact\n",
    "- Search contact\n",
    "- List all contacts\n",
    "    - Name1 : phone1\n",
    "    - Name2 : phone2\n",
    "- Modify the contact\n",
    "- Remove the contact\n",
    "- Import the contact "
   ]
  },
  {
   "cell_type": "code",
   "execution_count": null,
   "metadata": {},
   "outputs": [],
   "source": [
    "# Add a contact\n",
    "contact = {} # Creating a dictionary object\n",
    "def addContact(name,phone):\n",
    "    if name not in contact:\n",
    "        contact[name] = phone\n",
    "        print(\"Contact details are added\")\n",
    "    else:\n",
    "        print(\"Contact details already exist\")\n",
    "    return\n",
    "addContact('Bruh','1029384756')\n",
    "addContact(\"Another Bruh\", \"9988776655\")\n",
    "addContact('Bruh','1029384756')"
   ]
  },
  {
   "cell_type": "code",
   "execution_count": null,
   "metadata": {},
   "outputs": [],
   "source": [
    "#Search for contact details \n",
    "def searchContact(Name):\n",
    "    if Name in contact:\n",
    "        print(Name, \" : \", contact[Name])\n",
    "    else:\n",
    "        print(\"%s do not exist\" % Name)\n",
    "    return\n",
    "searchContact('Bruh')\n",
    "searchContact('You')\n",
    "searchContact('Another Bruh')"
   ]
  },
  {
   "cell_type": "code",
   "execution_count": null,
   "metadata": {},
   "outputs": [],
   "source": [
    "# Import some contacts\n",
    "# Merge the contacts with the existing ones\n",
    "def importContact(newContact):\n",
    "    contact.update(newContact)\n",
    "    print(len(newContact.keys()),\"Contacts added succesfully\")\n",
    "    return\n",
    "newContact = {'NotSoMuchBruh': 9988776655, 'TooMuchBruh': 9988776655}\n",
    "importContact(newContact)"
   ]
  },
  {
   "cell_type": "code",
   "execution_count": null,
   "metadata": {},
   "outputs": [],
   "source": [
    "contact"
   ]
  },
  {
   "cell_type": "code",
   "execution_count": null,
   "metadata": {},
   "outputs": [],
   "source": [
    "# Delete a contact\n",
    "def deleteContact(Name):\n",
    "    if Name in contact:\n",
    "        del contact[Name]\n",
    "        print(Name,\"deleted successfully\")\n",
    "    else:\n",
    "        print(Name, \"does not exist\")\n",
    "    return\n",
    "deleteContact('Dinesh')"
   ]
  },
  {
   "cell_type": "code",
   "execution_count": null,
   "metadata": {},
   "outputs": [],
   "source": [
    "contact"
   ]
  },
  {
   "cell_type": "code",
   "execution_count": null,
   "metadata": {},
   "outputs": [],
   "source": [
    "# Update the contact details\n",
    "def updateContact(Name,phone):\n",
    "    if Name in contact:\n",
    "        contact[Name] = phone\n",
    "        print(Name, \"updated successfully\")\n",
    "    else:\n",
    "        print(Name, \"does not exist\")\n",
    "    return\n",
    "updateContact('Bruh',4814492063)\n",
    "updateContact('tfgBruh',3910530583)"
   ]
  },
  {
   "cell_type": "code",
   "execution_count": null,
   "metadata": {},
   "outputs": [],
   "source": [
    "contact"
   ]
  },
  {
   "cell_type": "markdown",
   "metadata": {},
   "source": [
    "### Standard libraries\n",
    "- File I/O\n",
    "- Regular expression\n",
    "- datetime\n",
    "- math"
   ]
  },
  {
   "cell_type": "markdown",
   "metadata": {},
   "source": [
    " ### File handling in python\n",
    "- File: Document with info\n",
    "- Diff types of files\n",
    "- input keyboard\n",
    "- output file"
   ]
  },
  {
   "cell_type": "markdown",
   "metadata": {},
   "source": [
    "### Modes of the I/O\n",
    "- 'w'--thismode is used to file writing\n",
    "      -- if the file is not present firdt it creates it then writes data into it"
   ]
  },
  {
   "cell_type": "code",
   "execution_count": 1,
   "metadata": {},
   "outputs": [
    {
     "name": "stdout",
     "output_type": "stream",
     "text": [
      "The file is created and data is written\n"
     ]
    }
   ],
   "source": [
    "def createfile(filename):\n",
    "    f = open(filename,'w')\n",
    "    for i in range(10):\n",
    "        f.write(\"This is %d line\\n\"%i)\n",
    "    print(\"The file is created and data is written\")\n",
    "    return\n",
    "createfile('file1.txt')"
   ]
  },
  {
   "cell_type": "code",
   "execution_count": 2,
   "metadata": {},
   "outputs": [
    {
     "name": "stdout",
     "output_type": "stream",
     "text": [
      " Volume in drive C has no label.\n",
      " Volume Serial Number is BE12-38CD\n",
      "\n",
      " Directory of C:\\Users\\nikki\n",
      "\n",
      "11-07-2019  14:52    <DIR>          .\n",
      "11-07-2019  14:52    <DIR>          ..\n",
      "12-06-2019  13:09    <DIR>          .anaconda\n",
      "04-07-2019  15:31             6,085 .bash_history\n",
      "11-07-2019  14:53    <DIR>          .conda\n",
      "11-07-2019  14:31                43 .condarc\n",
      "11-07-2019  14:47    <DIR>          .ipynb_checkpoints\n",
      "12-06-2019  13:18    <DIR>          .ipython\n",
      "05-07-2019  14:04    <DIR>          .jupyter\n",
      "28-06-2019  15:45    <DIR>          .matplotlib\n",
      "26-07-2018  11:32    <DIR>          .nbi\n",
      "04-07-2019  15:04    <DIR>          .VirtualBox\n",
      "15-11-2018  10:47    <DIR>          .vscode\n",
      "11-07-2019  14:52            32,351 Adil-221810311016.ipynb\n",
      "12-06-2019  13:08    <DIR>          Anaconda3\n",
      "26-02-2018  02:50    <DIR>          Contacts\n",
      "25-06-2019  15:54             6,170 datastructures.ipynb\n",
      "11-07-2019  14:38    <DIR>          Desktop\n",
      "08-07-2019  10:25               555 dil 3.0.ipynb\n",
      "11-07-2019  10:39    <DIR>          Documents\n",
      "11-07-2019  14:44    <DIR>          Downloads\n",
      "26-02-2018  02:50    <DIR>          Favorites\n",
      "27-06-2019  11:39                64 file.txt\n",
      "11-07-2019  14:53               160 file1.txt\n",
      "13-08-2018  10:44                 9 file1_49.aux\n",
      "13-08-2018  10:44            23,792 file1_49.log\n",
      "13-08-2018  10:44            48,664 file1_49.pdf\n",
      "13-08-2018  10:44             1,248 file1_49.synctex.gz\n",
      "13-08-2018  10:44               562 file1_49.tex\n",
      "01-08-2018  11:10               296 gg.tex\n",
      "09-08-2018  15:34                 9 let.aux\n",
      "09-08-2018  15:34            28,390 let.log\n",
      "09-08-2018  15:34            13,853 let.pdf\n",
      "09-08-2018  15:34             1,294 let.synctex.gz\n",
      "09-08-2018  15:34               642 let.tex\n",
      "09-08-2018  15:38                89 letter.aux\n",
      "09-08-2018  15:38            19,806 letter.log\n",
      "09-08-2018  15:38            14,066 letter.pdf\n",
      "09-08-2018  15:38             1,199 letter.synctex.gz\n",
      "09-08-2018  15:38               424 letter.tex\n",
      "13-08-2018  10:48                89 letter1_49.aux\n",
      "13-08-2018  10:48            19,831 letter1_49.log\n",
      "13-08-2018  10:48            16,446 letter1_49.pdf\n",
      "13-08-2018  10:48             1,229 letter1_49.synctex.gz\n",
      "13-08-2018  10:52               469 letter1_49.tex\n",
      "13-08-2018  10:52                89 letter2_49.aux\n",
      "13-08-2018  10:52            19,831 letter2_49.log\n",
      "13-08-2018  10:52            17,469 letter2_49.pdf\n",
      "13-08-2018  10:52             1,284 letter2_49.synctex.gz\n",
      "13-08-2018  10:56               507 letter2_49.tex\n",
      "26-02-2018  02:50    <DIR>          Links\n",
      "24-06-2019  17:00             9,860 listpython.ipynb\n",
      "26-02-2018  02:50    <DIR>          Music\n",
      "21-06-2019  17:45             2,578 notepython.ipynb\n",
      "28-06-2019  14:43             8,419 oops.ipynb\n",
      "04-07-2019  14:16    <DIR>          OpenVPN\n",
      "28-06-2019  15:47             2,099 pandas.ipynb\n",
      "29-06-2019  14:21            60,039 pandascntd.ipynb\n",
      "19-09-2018  15:07    <DIR>          Pictures\n",
      "22-06-2019  14:43             3,591 pythonloops.ipynb\n",
      "27-06-2019  17:07             5,844 regrex.ipynb\n",
      "26-02-2018  02:50    <DIR>          Saved Games\n",
      "24-07-2018  14:28    <DIR>          Searches\n",
      "09-08-2018  15:32                 9 table.aux\n",
      "09-08-2018  15:32            35,270 table.log\n",
      "09-08-2018  15:32            14,517 table.pdf\n",
      "09-08-2018  15:32             1,782 table.synctex.gz\n",
      "09-08-2018  15:32               751 table.tex\n",
      "12-06-2019  13:20               731 Untitled.ipynb\n",
      "05-07-2019  14:06                 0 untitled.txt\n",
      "21-06-2019  17:31             2,578 Untitled1.ipynb\n",
      "05-07-2019  14:06                 0 untitled1.txt\n",
      "22-06-2019  15:37             1,883 Untitled2.ipynb\n",
      "26-06-2019  16:31            20,448 Untitled3.ipynb\n",
      "05-07-2019  14:06                72 Untitled4.ipynb\n",
      "08-07-2019  15:27               906 Untitled5.ipynb\n",
      "08-07-2019  15:15               555 Untitled6.ipynb\n",
      "26-02-2018  02:50    <DIR>          Videos\n",
      "              54 File(s)        448,947 bytes\n",
      "              24 Dir(s)  74,277,842,944 bytes free\n"
     ]
    }
   ],
   "source": [
    "ls"
   ]
  },
  {
   "cell_type": "code",
   "execution_count": 3,
   "metadata": {},
   "outputs": [
    {
     "name": "stdout",
     "output_type": "stream",
     "text": [
      "C:\\Users\\nikki\\Desktop\\PythonProg\\Git\n"
     ]
    }
   ],
   "source": [
    "cd C:\\Users\\nikki\\Desktop\\PythonProg\\Git"
   ]
  },
  {
   "cell_type": "code",
   "execution_count": 4,
   "metadata": {},
   "outputs": [
    {
     "name": "stdout",
     "output_type": "stream",
     "text": [
      " Volume in drive C has no label.\n",
      " Volume Serial Number is BE12-38CD\n",
      "\n",
      " Directory of C:\\Users\\nikki\\Desktop\\PythonProg\\Git\n",
      "\n",
      "11-07-2019  14:50    <DIR>          .\n",
      "11-07-2019  14:50    <DIR>          ..\n",
      "11-07-2019  14:50                10 file1.txt\n",
      "11-07-2019  14:51               368 file2.txt\n",
      "               2 File(s)            378 bytes\n",
      "               2 Dir(s)  74,277,781,504 bytes free\n"
     ]
    }
   ],
   "source": [
    "ls"
   ]
  },
  {
   "cell_type": "code",
   "execution_count": 5,
   "metadata": {},
   "outputs": [
    {
     "name": "stdout",
     "output_type": "stream",
     "text": [
      "The file is created and data is written\n"
     ]
    }
   ],
   "source": [
    "def createfile(filename):\n",
    "    f = open(filename,'w')\n",
    "    f.write(\"Testing...\")\n",
    "    print(\"The file is created and data is written\")\n",
    "    return\n",
    "createfile('file1.txt')"
   ]
  },
  {
   "cell_type": "code",
   "execution_count": 6,
   "metadata": {},
   "outputs": [
    {
     "name": "stdout",
     "output_type": "stream",
     "text": [
      "The file is created and data is written\n"
     ]
    }
   ],
   "source": [
    "def appenddata(filename):\n",
    "    f = open(filename,'a')\n",
    "    for i in range(10):\n",
    "        f.write(\"This is %d line\\n\"%i)\n",
    "    print(\"The file is created and data is written\")\n",
    "    return\n",
    "appenddata('file2.txt')"
   ]
  },
  {
   "cell_type": "code",
   "execution_count": 7,
   "metadata": {},
   "outputs": [
    {
     "name": "stdout",
     "output_type": "stream",
     "text": [
      "File created and succesfully data written\n"
     ]
    }
   ],
   "source": [
    "def appenddata(filename):\n",
    "    f = open(filename,'a')\n",
    "    f.write(\"New line 1\\n\")\n",
    "    f.write(\"New line 2\\n\")\n",
    "    print(\"File created and succesfully data written\")\n",
    "    f.close()\n",
    "    return\n",
    "appenddata('file2.txt')"
   ]
  },
  {
   "cell_type": "code",
   "execution_count": 8,
   "metadata": {},
   "outputs": [
    {
     "name": "stdout",
     "output_type": "stream",
     "text": [
      "This is 0 line\n",
      "This is 1 line\n",
      "This is 2 line\n",
      "This is 3 line\n",
      "This is 4 line\n",
      "This is 5 line\n",
      "This is 6 line\n",
      "This is 7 line\n",
      "This is 8 line\n",
      "This is 9 line\n",
      "New line 1\n",
      "New line 2\n",
      "\n"
     ]
    }
   ],
   "source": [
    "def readFileData(filename):\n",
    "    f = open(filename,'r')\n",
    "    if f.mode == 'r':\n",
    "        x = f.read()\n",
    "        print(x)\n",
    "    f.close()\n",
    "    return\n",
    "readFileData('file2.txt')"
   ]
  },
  {
   "cell_type": "code",
   "execution_count": 9,
   "metadata": {},
   "outputs": [
    {
     "name": "stdout",
     "output_type": "stream",
     "text": [
      "Enter the file namefile2.txt\n",
      "Enter the mode of the filer\n",
      "This is 0 line\n",
      "This is 1 line\n",
      "This is 2 line\n",
      "This is 3 line\n",
      "This is 4 line\n",
      "This is 5 line\n",
      "This is 6 line\n",
      "This is 7 line\n",
      "This is 8 line\n",
      "This is 9 line\n",
      "New line 1\n",
      "New line 2\n",
      "\n"
     ]
    }
   ],
   "source": [
    "def fileOperations(filename,mode):\n",
    "    with open(filename,mode) as f:\n",
    "        if f.mode == 'r':\n",
    "            data = f.read()\n",
    "            print(data)\n",
    "        elif f.mode == 'a':\n",
    "            f.write('Data to the file')\n",
    "            print('The data successfully witten')\n",
    "    f.close()\n",
    "    return\n",
    "filename = input('Enter the file name ')\n",
    "mode = input('Enter the mode of the file ')\n",
    "fileOperations(filename,mode)"
   ]
  },
  {
   "cell_type": "code",
   "execution_count": 11,
   "metadata": {},
   "outputs": [
    {
     "name": "stdout",
     "output_type": "stream",
     "text": [
      "Enter the file name:  file2.txt\n",
      "Enter the word:  This\n"
     ]
    },
    {
     "data": {
      "text/plain": [
       "10"
      ]
     },
     "execution_count": 11,
     "metadata": {},
     "output_type": "execute_result"
    }
   ],
   "source": [
    "def wordCount(filename,word):\n",
    "    with open(filename,'r') as f:\n",
    "        if f.mode == 'r':\n",
    "            x = f.read()\n",
    "            li = x.split()\n",
    "    cnt = li.count(word)\n",
    "    return cnt \n",
    "filename = input('Enter the file name:  ')\n",
    "word = input('Enter the word:  ')\n",
    "wordCount(filename,word)"
   ]
  },
  {
   "cell_type": "code",
   "execution_count": 12,
   "metadata": {},
   "outputs": [
    {
     "name": "stdout",
     "output_type": "stream",
     "text": [
      "Enter the filename : file2.txt\n"
     ]
    },
    {
     "data": {
      "text/plain": [
       "13"
      ]
     },
     "execution_count": 12,
     "metadata": {},
     "output_type": "execute_result"
    }
   ],
   "source": [
    "def countOfLines(filename):\n",
    "    with open(filename,'r') as f:\n",
    "        if f.mode == 'r':\n",
    "            x = f.read()\n",
    "            li = x.split(\"\\n\")\n",
    "    return len(li)\n",
    "filename = input('Enter the filename : ')\n",
    "countOfLines(filename)"
   ]
  },
  {
   "cell_type": "code",
   "execution_count": 13,
   "metadata": {},
   "outputs": [
    {
     "name": "stdout",
     "output_type": "stream",
     "text": [
      "Enter the filename:  file2.txt\n"
     ]
    },
    {
     "data": {
      "text/plain": [
       "'Upper case = 12 , Lower Case = 102'"
      ]
     },
     "execution_count": 13,
     "metadata": {},
     "output_type": "execute_result"
    }
   ],
   "source": [
    "def caseCount(filename):\n",
    "    cntUpper = 0\n",
    "    cntLower = 0\n",
    "    with open(filename,'r') as f:\n",
    "        if f.mode == 'r':\n",
    "            x = f.read()\n",
    "            li = list(x)\n",
    "    for i in li:\n",
    "        if i.isupper():\n",
    "            cntUpper += 1\n",
    "        elif i.islower():\n",
    "            cntLower += 1\n",
    "    output = 'Upper case = {0} , Lower Case = {1}'.format(cntUpper,cntLower)\n",
    "    return output\n",
    "filename = input('Enter the filename:  ')\n",
    "caseCount(filename)"
   ]
  },
  {
   "cell_type": "code",
   "execution_count": 14,
   "metadata": {},
   "outputs": [],
   "source": [
    "import os\n",
    "os.mkdir('SingleDirectory')"
   ]
  },
  {
   "cell_type": "code",
   "execution_count": 15,
   "metadata": {},
   "outputs": [],
   "source": [
    "import pathlib\n",
    "p = pathlib.Path('TestFolder')\n",
    "p.mkdir()"
   ]
  },
  {
   "cell_type": "code",
   "execution_count": 16,
   "metadata": {},
   "outputs": [
    {
     "name": "stdout",
     "output_type": "stream",
     "text": [
      " Volume in drive C has no label.\n",
      " Volume Serial Number is BE12-38CD\n",
      "\n",
      " Directory of C:\\Users\\nikki\\Desktop\\PythonProg\\Git\n",
      "\n",
      "11-07-2019  14:59    <DIR>          .\n",
      "11-07-2019  14:59    <DIR>          ..\n",
      "11-07-2019  14:54                10 file1.txt\n",
      "11-07-2019  14:54               184 file2.txt\n",
      "11-07-2019  14:58    <DIR>          SingleDirectory\n",
      "11-07-2019  14:59    <DIR>          TestFolder\n",
      "               2 File(s)            194 bytes\n",
      "               4 Dir(s)  74,272,505,856 bytes free\n"
     ]
    }
   ],
   "source": [
    "ls"
   ]
  },
  {
   "cell_type": "code",
   "execution_count": 17,
   "metadata": {},
   "outputs": [],
   "source": [
    "import os\n",
    "os.makedirs('2019/July/11')"
   ]
  },
  {
   "cell_type": "code",
   "execution_count": 18,
   "metadata": {},
   "outputs": [
    {
     "name": "stdout",
     "output_type": "stream",
     "text": [
      " Volume in drive C has no label.\n",
      " Volume Serial Number is BE12-38CD\n",
      "\n",
      " Directory of C:\\Users\\nikki\\Desktop\\PythonProg\\Git\n",
      "\n",
      "11-07-2019  14:59    <DIR>          .\n",
      "11-07-2019  14:59    <DIR>          ..\n",
      "11-07-2019  14:59    <DIR>          2019\n",
      "11-07-2019  14:54                10 file1.txt\n",
      "11-07-2019  14:54               184 file2.txt\n",
      "11-07-2019  14:58    <DIR>          SingleDirectory\n",
      "11-07-2019  14:59    <DIR>          TestFolder\n",
      "               2 File(s)            194 bytes\n",
      "               5 Dir(s)  74,271,850,496 bytes free\n"
     ]
    }
   ],
   "source": [
    "ls"
   ]
  },
  {
   "cell_type": "markdown",
   "metadata": {},
   "source": [
    "### Filename Pattern Matching"
   ]
  },
  {
   "cell_type": "code",
   "execution_count": 5,
   "metadata": {},
   "outputs": [
    {
     "name": "stdout",
     "output_type": "stream",
     "text": [
      "C:\\Users\\nikki\\Desktop\\PythonProg\n"
     ]
    }
   ],
   "source": [
    "cd .."
   ]
  },
  {
   "cell_type": "code",
   "execution_count": 8,
   "metadata": {},
   "outputs": [],
   "source": [
    "import os\n",
    "dirPath = 'Git/'\n",
    "for f_name in os.listdir(dirPath):\n",
    "    if f_name.endswith('.ipynb'):\n",
    "        print(f_name)"
   ]
  },
  {
   "cell_type": "code",
   "execution_count": 1,
   "metadata": {},
   "outputs": [
    {
     "name": "stdout",
     "output_type": "stream",
     "text": [
      " Volume in drive C has no label.\n",
      " Volume Serial Number is BE12-38CD\n",
      "\n",
      " Directory of C:\\Users\\nikki\n",
      "\n",
      "11-07-2019  15:10    <DIR>          .\n",
      "11-07-2019  15:10    <DIR>          ..\n",
      "12-06-2019  13:09    <DIR>          .anaconda\n",
      "04-07-2019  15:31             6,085 .bash_history\n",
      "12-07-2019  09:09    <DIR>          .conda\n",
      "12-07-2019  09:04                43 .condarc\n",
      "11-07-2019  14:47    <DIR>          .ipynb_checkpoints\n",
      "12-06-2019  13:18    <DIR>          .ipython\n",
      "05-07-2019  14:04    <DIR>          .jupyter\n",
      "28-06-2019  15:45    <DIR>          .matplotlib\n",
      "26-07-2018  11:32    <DIR>          .nbi\n",
      "04-07-2019  15:04    <DIR>          .VirtualBox\n",
      "15-11-2018  10:47    <DIR>          .vscode\n",
      "11-07-2019  15:10            45,536 Adil-221810311016.ipynb\n",
      "12-06-2019  13:08    <DIR>          Anaconda3\n",
      "26-02-2018  02:50    <DIR>          Contacts\n",
      "25-06-2019  15:54             6,170 datastructures.ipynb\n",
      "11-07-2019  14:38    <DIR>          Desktop\n",
      "08-07-2019  10:25               555 dil 3.0.ipynb\n",
      "11-07-2019  10:39    <DIR>          Documents\n",
      "11-07-2019  14:57    <DIR>          Downloads\n",
      "26-02-2018  02:50    <DIR>          Favorites\n",
      "27-06-2019  11:39                64 file.txt\n",
      "11-07-2019  14:53               160 file1.txt\n",
      "13-08-2018  10:44                 9 file1_49.aux\n",
      "13-08-2018  10:44            23,792 file1_49.log\n",
      "13-08-2018  10:44            48,664 file1_49.pdf\n",
      "13-08-2018  10:44             1,248 file1_49.synctex.gz\n",
      "13-08-2018  10:44               562 file1_49.tex\n",
      "01-08-2018  11:10               296 gg.tex\n",
      "09-08-2018  15:34                 9 let.aux\n",
      "09-08-2018  15:34            28,390 let.log\n",
      "09-08-2018  15:34            13,853 let.pdf\n",
      "09-08-2018  15:34             1,294 let.synctex.gz\n",
      "09-08-2018  15:34               642 let.tex\n",
      "09-08-2018  15:38                89 letter.aux\n",
      "09-08-2018  15:38            19,806 letter.log\n",
      "09-08-2018  15:38            14,066 letter.pdf\n",
      "09-08-2018  15:38             1,199 letter.synctex.gz\n",
      "09-08-2018  15:38               424 letter.tex\n",
      "13-08-2018  10:48                89 letter1_49.aux\n",
      "13-08-2018  10:48            19,831 letter1_49.log\n",
      "13-08-2018  10:48            16,446 letter1_49.pdf\n",
      "13-08-2018  10:48             1,229 letter1_49.synctex.gz\n",
      "13-08-2018  10:52               469 letter1_49.tex\n",
      "13-08-2018  10:52                89 letter2_49.aux\n",
      "13-08-2018  10:52            19,831 letter2_49.log\n",
      "13-08-2018  10:52            17,469 letter2_49.pdf\n",
      "13-08-2018  10:52             1,284 letter2_49.synctex.gz\n",
      "13-08-2018  10:56               507 letter2_49.tex\n",
      "26-02-2018  02:50    <DIR>          Links\n",
      "24-06-2019  17:00             9,860 listpython.ipynb\n",
      "26-02-2018  02:50    <DIR>          Music\n",
      "21-06-2019  17:45             2,578 notepython.ipynb\n",
      "28-06-2019  14:43             8,419 oops.ipynb\n",
      "04-07-2019  14:16    <DIR>          OpenVPN\n",
      "28-06-2019  15:47             2,099 pandas.ipynb\n",
      "29-06-2019  14:21            60,039 pandascntd.ipynb\n",
      "19-09-2018  15:07    <DIR>          Pictures\n",
      "22-06-2019  14:43             3,591 pythonloops.ipynb\n",
      "27-06-2019  17:07             5,844 regrex.ipynb\n",
      "26-02-2018  02:50    <DIR>          Saved Games\n",
      "24-07-2018  14:28    <DIR>          Searches\n",
      "09-08-2018  15:32                 9 table.aux\n",
      "09-08-2018  15:32            35,270 table.log\n",
      "09-08-2018  15:32            14,517 table.pdf\n",
      "09-08-2018  15:32             1,782 table.synctex.gz\n",
      "09-08-2018  15:32               751 table.tex\n",
      "12-06-2019  13:20               731 Untitled.ipynb\n",
      "05-07-2019  14:06                 0 untitled.txt\n",
      "21-06-2019  17:31             2,578 Untitled1.ipynb\n",
      "05-07-2019  14:06                 0 untitled1.txt\n",
      "22-06-2019  15:37             1,883 Untitled2.ipynb\n",
      "26-06-2019  16:31            20,448 Untitled3.ipynb\n",
      "05-07-2019  14:06                72 Untitled4.ipynb\n",
      "08-07-2019  15:27               906 Untitled5.ipynb\n",
      "08-07-2019  15:15               555 Untitled6.ipynb\n",
      "26-02-2018  02:50    <DIR>          Videos\n",
      "              54 File(s)        462,132 bytes\n",
      "              24 Dir(s)  73,840,226,304 bytes free\n"
     ]
    }
   ],
   "source": [
    "ls"
   ]
  },
  {
   "cell_type": "code",
   "execution_count": 2,
   "metadata": {},
   "outputs": [
    {
     "name": "stdout",
     "output_type": "stream",
     "text": [
      "C:\\Users\\nikki\\Desktop\\PythonProg\\Git\n"
     ]
    }
   ],
   "source": [
    "cd C:/Users/nikki/Desktop/PythonProg/Git"
   ]
  },
  {
   "cell_type": "markdown",
   "metadata": {},
   "source": [
    "### Regular Expressions for numbers\n",
    "- Pattern matchings\n",
    "- Patterns(re) package\n",
    "- Cap symbol is used to represent the start of a re\n",
    "- Dollar symbol is used to represent the start of a re\n",
    "- [0-9] --> Any digit matching\n",
    "            --> Two digit number (^[0-9]{2}$)"
   ]
  },
  {
   "cell_type": "markdown",
   "metadata": {},
   "source": [
    "### Regular Expression for characters\n",
    "- [a-z] --> Any lower case characters\n",
    "- [A-Z] --> Any upper case characters\n",
    "- ^[a-z]{5}$ --> It accepts only 5 lowercase character\n",
    "- ^[a-zA-Z]{8}$ --> Accept 8 characters can be anything lower and upper\n",
    "- ^[a-zA-Z0-9]{8}$ --> Accept 8 character can be anythinf lower, upper, or numbers"
   ]
  },
  {
   "cell_type": "code",
   "execution_count": 2,
   "metadata": {},
   "outputs": [
    {
     "name": "stdout",
     "output_type": "stream",
     "text": [
      "True\n",
      "False\n"
     ]
    }
   ],
   "source": [
    "# Function to test two digit number matching\n",
    "import re\n",
    "def twoDigitMatching(n):\n",
    "    pattern = '^[0-9]{2}$'\n",
    "    n = str(n)\n",
    "    if re.match(pattern,n):\n",
    "        return True\n",
    "    return False\n",
    "print(twoDigitMatching(12)) # True \n",
    "print(twoDigitMatching(123)) # False"
   ]
  },
  {
   "cell_type": "code",
   "execution_count": 12,
   "metadata": {},
   "outputs": [
    {
     "name": "stdout",
     "output_type": "stream",
     "text": [
      "True\n",
      "False\n"
     ]
    }
   ],
   "source": [
    "# Function to define to test username having 8 characters\n",
    "# Upper and Lower case\n",
    "def userName(s):\n",
    "    pattern = '^[a-zA-Z]{8}$'\n",
    "    if re.match(pattern,s):\n",
    "        return True\n",
    "    return False\n",
    "print(userName('GitamHYD'))\n",
    "print(userName('Gitam188'))"
   ]
  },
  {
   "cell_type": "markdown",
   "metadata": {},
   "source": [
    "### Regular Expression to match a mobile number\n",
    "- 10 digits\n",
    "- First digit will be [6-9] and remaining 9 digits will be [0-9]\n",
    "- Example: 6295921943\n",
    "- re - ^[6-9][0-9]{9}$\n",
    "- Example: 09988774455"
   ]
  },
  {
   "cell_type": "code",
   "execution_count": 15,
   "metadata": {},
   "outputs": [
    {
     "data": {
      "text/plain": [
       "True"
      ]
     },
     "execution_count": 15,
     "metadata": {},
     "output_type": "execute_result"
    }
   ],
   "source": [
    "# Function to validate the Indian Mobile Number\n",
    "def phoneNumberValidation(phone):\n",
    "    pattern = '^[6-9][0-9]{9}$|[0][6-9][0-9]{9}$|^[+][9][1][6-9][0-9]{9}'\n",
    "    phone = str(phone)\n",
    "    if re.match(pattern,phone):\n",
    "        return True\n",
    "    return False\n",
    "phoneNumberValidation('+919988776655')"
   ]
  },
  {
   "cell_type": "markdown",
   "metadata": {},
   "source": [
    "### Assignment\n",
    "- Regular Expression to validate the RollNumber\n",
    "    - Example:  1521A0501\n",
    "    - Example:  1521A0109\n",
    "    - Example:  1521A0499\n",
    "- Regular Expression to validate the password\n",
    "    - Parameters:  Len min of 6 characters and Max of 15 characters\n",
    "    - Accept Lower case, Upper case, Digits spl char (@, #, !)"
   ]
  },
  {
   "cell_type": "code",
   "execution_count": 16,
   "metadata": {},
   "outputs": [
    {
     "data": {
      "text/plain": [
       "False"
      ]
     },
     "execution_count": 16,
     "metadata": {},
     "output_type": "execute_result"
    }
   ],
   "source": [
    "def rollNumberValidation(number):\n",
    "    pattern = '^[1][5][2][1][A][0][1-9][0-9][1-9]$'\n",
    "    number = str(number)\n",
    "    if re.match(pattern,number):\n",
    "        return True\n",
    "    return False\n",
    "rollNumberValidation('1521A0501')\n",
    "rollNumberValidation('1521A0109')\n",
    "rollNumberValidation('1521A05499')"
   ]
  },
  {
   "cell_type": "markdown",
   "metadata": {},
   "source": [
    "### Email Id validation using Regural Expression\n",
    "- Example: Username@DomainName.extension\n",
    "Username:\n",
    "    - Length will be [6-15]\n",
    "    - No spl characters apart from Underscore( _ )\n",
    "    - Should not begin or end with \n",
    "- Extension:\n",
    "    - Length will be [2-4]\n",
    "    - No spl characters\n",
    "    - Character Set:  Lowercase characters"
   ]
  },
  {
   "cell_type": "code",
   "execution_count": 6,
   "metadata": {},
   "outputs": [
    {
     "data": {
      "text/plain": [
       "True"
      ]
     },
     "execution_count": 6,
     "metadata": {},
     "output_type": "execute_result"
    }
   ],
   "source": [
    "def emailIDValidation(email):\n",
    "    pattern = '^[0-9a-z][0-9a-z_. ]{5,14}[@][a-z0-9]{3,18}[.][a-z]{2,4}$'\n",
    "    if re.match(pattern,email):\n",
    "        return True\n",
    "    return False\n",
    "emailIDValidation(\"anilkumar189@gmail.com\")"
   ]
  },
  {
   "cell_type": "markdown",
   "metadata": {},
   "source": [
    "### Python Turtle\n",
    "- Turtle graphics"
   ]
  },
  {
   "cell_type": "code",
   "execution_count": null,
   "metadata": {},
   "outputs": [],
   "source": [
    "# Step 1: Make all the turtle package to be imported\n",
    "import turtle\n",
    "# Turtle method creates and returns a new object\n",
    "a1 = turtle.Turtle()\n",
    "#  Forward() method moves 100 pixels\n",
    "turtle.forward(250)\n",
    "#We are done\n",
    "turtle.done()"
   ]
  },
  {
   "cell_type": "code",
   "execution_count": null,
   "metadata": {},
   "outputs": [],
   "source": [
    "import turtle as tt\n",
    "a1 = turtle.Turtle()\n",
    "tt.backward(100)\n",
    "tt.done()"
   ]
  },
  {
   "cell_type": "code",
   "execution_count": null,
   "metadata": {},
   "outputs": [],
   "source": [
    "# Draw a square\n",
    "import turtle as tt\n",
    "a1 = tt.Turtle()\n",
    "a1.forward(150)\n",
    "a1.right(90)\n",
    "a1.forward(150)\n",
    "a1.right(90)\n",
    "a1.forward(150)\n",
    "a1.right(90)\n",
    "a1.forward(150)\n",
    "tt.done()"
   ]
  },
  {
   "cell_type": "markdown",
   "metadata": {},
   "source": [
    "### 13/07"
   ]
  },
  {
   "cell_type": "markdown",
   "metadata": {},
   "source": [
    "### Transforming code into Idiomatic Python\n",
    "- Replace traditional index manipulation with python core looping idiomatic"
   ]
  },
  {
   "cell_type": "code",
   "execution_count": 1,
   "metadata": {},
   "outputs": [
    {
     "name": "stdout",
     "output_type": "stream",
     "text": [
      "0 1 4 9 16 25 "
     ]
    }
   ],
   "source": [
    "# Looping over a range of numbers - Traditional approach\n",
    "for i in [0,1,2,3,4,5]:\n",
    "    print(i**2, end=\" \")"
   ]
  },
  {
   "cell_type": "code",
   "execution_count": 2,
   "metadata": {},
   "outputs": [
    {
     "name": "stdout",
     "output_type": "stream",
     "text": [
      "0 1 4 9 16 25 "
     ]
    }
   ],
   "source": [
    "# Idiomatic programming\n",
    "for i in range(6):\n",
    "    print(i**2,end=\" \")"
   ]
  },
  {
   "cell_type": "markdown",
   "metadata": {},
   "source": [
    "### Looping over a collection "
   ]
  },
  {
   "cell_type": "code",
   "execution_count": 5,
   "metadata": {},
   "outputs": [
    {
     "name": "stdout",
     "output_type": "stream",
     "text": [
      "red green yellow purple "
     ]
    }
   ],
   "source": [
    "colors = ['red','green','yellow','purple']\n",
    "for i in range(len(colors)):\n",
    "    print(colors[i],end=\" \")"
   ]
  },
  {
   "cell_type": "code",
   "execution_count": 6,
   "metadata": {},
   "outputs": [
    {
     "name": "stdout",
     "output_type": "stream",
     "text": [
      "red green yellow purple "
     ]
    }
   ],
   "source": [
    "for color in colors:\n",
    "    print(color,end=\" \")"
   ]
  },
  {
   "cell_type": "markdown",
   "metadata": {},
   "source": [
    "### Looping backwards"
   ]
  },
  {
   "cell_type": "code",
   "execution_count": 7,
   "metadata": {},
   "outputs": [
    {
     "name": "stdout",
     "output_type": "stream",
     "text": [
      "purple yellow green red "
     ]
    }
   ],
   "source": [
    "colors = ['red','green','yellow','purple']\n",
    "for i in range(len(colors)-1,-1,-1):\n",
    "    print(colors[i],end=\" \")"
   ]
  },
  {
   "cell_type": "code",
   "execution_count": 9,
   "metadata": {},
   "outputs": [
    {
     "name": "stdout",
     "output_type": "stream",
     "text": [
      "purple yellow green red "
     ]
    }
   ],
   "source": [
    "for color in reversed(colors):\n",
    "    print(color,end=\" \")"
   ]
  },
  {
   "cell_type": "markdown",
   "metadata": {},
   "source": [
    "### Looping in sorted list"
   ]
  },
  {
   "cell_type": "code",
   "execution_count": 10,
   "metadata": {},
   "outputs": [
    {
     "name": "stdout",
     "output_type": "stream",
     "text": [
      "green purple red yellow "
     ]
    }
   ],
   "source": [
    "colors = ['red','green','yellow','purple']\n",
    "for color in sorted(colors):\n",
    "    print(color,end=\" \")"
   ]
  },
  {
   "cell_type": "code",
   "execution_count": 17,
   "metadata": {},
   "outputs": [
    {
     "name": "stdout",
     "output_type": "stream",
     "text": [
      "yellow red purple green "
     ]
    }
   ],
   "source": [
    "colors = ['red','green','yellow','purple']\n",
    "for color in sorted(colors,reverse=True):\n",
    "    print(color,end=\" \")"
   ]
  },
  {
   "cell_type": "markdown",
   "metadata": {},
   "source": [
    " - if x <= y and y <= z\n",
    " - if x <= y <= z\n",
    " - x == true: if x:"
   ]
  },
  {
   "cell_type": "markdown",
   "metadata": {},
   "source": [
    "## Pandas"
   ]
  },
  {
   "cell_type": "code",
   "execution_count": 7,
   "metadata": {},
   "outputs": [],
   "source": [
    "import pandas as pd"
   ]
  },
  {
   "cell_type": "code",
   "execution_count": 9,
   "metadata": {},
   "outputs": [],
   "source": [
    "dt = {'Id': [11,12,13,14,15],\n",
    "         'first_name': ['A', 'B', 'C', 'D', 'E'],\n",
    "         'company': ['aa', 'bb', 'cc', 'dd', 'ee'],\n",
    "         'address': ['Hyd', 'Hyd', 'Hyd', 'Hyd', 'Hyd']}\n",
    "mydt = pd.DataFrame(dt)"
   ]
  },
  {
   "cell_type": "code",
   "execution_count": 10,
   "metadata": {},
   "outputs": [
    {
     "name": "stdout",
     "output_type": "stream",
     "text": [
      "   Id first_name company address\n",
      "0  11          A      aa     Hyd\n",
      "1  12          B      bb     Hyd\n",
      "2  13          C      cc     Hyd\n",
      "3  14          D      dd     Hyd\n",
      "4  15          E      ee     Hyd\n"
     ]
    }
   ],
   "source": [
    "print(mydt)"
   ]
  },
  {
   "cell_type": "code",
   "execution_count": 12,
   "metadata": {},
   "outputs": [],
   "source": [
    "import os"
   ]
  },
  {
   "cell_type": "code",
   "execution_count": 21,
   "metadata": {},
   "outputs": [],
   "source": [
    "os.chdir(\"D:\\\\MyData\") # Saves to certain location"
   ]
  },
  {
   "cell_type": "code",
   "execution_count": 22,
   "metadata": {},
   "outputs": [],
   "source": [
    "mydt.to_csv('WorkingFile.csv',index = False)"
   ]
  },
  {
   "cell_type": "code",
   "execution_count": 27,
   "metadata": {},
   "outputs": [
    {
     "data": {
      "text/plain": [
       "'D:\\\\MyData'"
      ]
     },
     "execution_count": 27,
     "metadata": {},
     "output_type": "execute_result"
    }
   ],
   "source": [
    "pwd"
   ]
  },
  {
   "cell_type": "markdown",
   "metadata": {},
   "source": [
    "### Reading the data from CSV file"
   ]
  },
  {
   "cell_type": "code",
   "execution_count": 23,
   "metadata": {},
   "outputs": [],
   "source": [
    "mydata = pd.read_csv('WorkingFile.csv')"
   ]
  },
  {
   "cell_type": "code",
   "execution_count": 24,
   "metadata": {},
   "outputs": [
    {
     "name": "stdout",
     "output_type": "stream",
     "text": [
      "   Id first_name company address\n",
      "0  11          A      aa     Hyd\n",
      "1  12          B      bb     Hyd\n",
      "2  13          C      cc     Hyd\n",
      "3  14          D      dd     Hyd\n",
      "4  15          E      ee     Hyd\n"
     ]
    }
   ],
   "source": [
    "print(mydata)"
   ]
  },
  {
   "cell_type": "code",
   "execution_count": 32,
   "metadata": {},
   "outputs": [],
   "source": [
    "mydata1 = pd.read_csv('WorkingFile.csv', skiprows=1,names=[\"CustId\", \"Name\", \"Company\", \"Address\"])"
   ]
  },
  {
   "cell_type": "code",
   "execution_count": 33,
   "metadata": {},
   "outputs": [
    {
     "name": "stdout",
     "output_type": "stream",
     "text": [
      "   CustId Name Company Address\n",
      "0      11    A      aa     Hyd\n",
      "1      12    B      bb     Hyd\n",
      "2      13    C      cc     Hyd\n",
      "3      14    D      dd     Hyd\n",
      "4      15    E      ee     Hyd\n"
     ]
    }
   ],
   "source": [
    "print(mydata1)"
   ]
  },
  {
   "cell_type": "code",
   "execution_count": 34,
   "metadata": {},
   "outputs": [],
   "source": [
    "mydata1 = pd.read_csv('WorkingFile.csv', skiprows = [1,2,3],\n",
    "                     names = [\"CustId\", \"Name\",\"Company\",\"Address\"])"
   ]
  },
  {
   "cell_type": "code",
   "execution_count": 35,
   "metadata": {},
   "outputs": [
    {
     "name": "stdout",
     "output_type": "stream",
     "text": [
      "  CustId        Name  Company  Address\n",
      "0     Id  first_name  company  address\n",
      "1     14           D       dd      Hyd\n",
      "2     15           E       ee      Hyd\n"
     ]
    }
   ],
   "source": [
    "print(mydata1)"
   ]
  },
  {
   "cell_type": "markdown",
   "metadata": {},
   "source": [
    "### Assignment\n",
    "- Print only two columns\n",
    "- Print the largest value from CustId column -- max\n",
    "- Print the least value from CustId column -- min\n",
    "- Average of CustId column -- sum(li)/len(li)"
   ]
  },
  {
   "cell_type": "markdown",
   "metadata": {},
   "source": [
    "### Numpy - Working with multi dimensional array\n",
    "- Numpy arrays is a bit like Python List\n",
    "- Numpy array is data structure of Numpy Lib\n",
    "- It's a short name for Numeric Python or Numerical Python"
   ]
  },
  {
   "cell_type": "code",
   "execution_count": 2,
   "metadata": {},
   "outputs": [],
   "source": [
    "import numpy as np # Import the numpy package"
   ]
  },
  {
   "cell_type": "code",
   "execution_count": 3,
   "metadata": {},
   "outputs": [
    {
     "name": "stdout",
     "output_type": "stream",
     "text": [
      "[1, 2, 3, 4, 5] "
     ]
    }
   ],
   "source": [
    "li = [1,2,3,4,5]\n",
    "print(li,end=\" \")"
   ]
  },
  {
   "cell_type": "code",
   "execution_count": 4,
   "metadata": {},
   "outputs": [
    {
     "name": "stdout",
     "output_type": "stream",
     "text": [
      "[1 2 3 4 5]\n"
     ]
    }
   ],
   "source": [
    "array = np.array(li)\n",
    "print(array)                     # Convert the list into array using np.array()"
   ]
  },
  {
   "cell_type": "code",
   "execution_count": 5,
   "metadata": {},
   "outputs": [
    {
     "data": {
      "text/plain": [
       "array([[1, 2],\n",
       "       [3, 4],\n",
       "       [5, 6]])"
      ]
     },
     "execution_count": 5,
     "metadata": {},
     "output_type": "execute_result"
    }
   ],
   "source": [
    "a1 = np.array([(1,2,3),(4,5,6)])\n",
    "a1.reshape(3,2)"
   ]
  },
  {
   "cell_type": "code",
   "execution_count": 6,
   "metadata": {},
   "outputs": [
    {
     "name": "stdout",
     "output_type": "stream",
     "text": [
      "[[1 2 3 4 5 6]]\n"
     ]
    }
   ],
   "source": [
    "a1 = np.array([(1,2,3)])\n",
    "a2 = np.array([(4,5,6)])\n",
    "print(np.hstack((a1,a2)))"
   ]
  },
  {
   "cell_type": "code",
   "execution_count": 7,
   "metadata": {},
   "outputs": [
    {
     "name": "stdout",
     "output_type": "stream",
     "text": [
      "[[1 2 3]\n",
      " [4 5 6]]\n"
     ]
    }
   ],
   "source": [
    "a1 = np.array([(1,2,3)])\n",
    "a2 = np.array([(4,5,6)])\n",
    "print(np.vstack((a1,a2)))"
   ]
  }
 ],
 "metadata": {
  "kernelspec": {
   "display_name": "Python 3",
   "language": "python",
   "name": "python3"
  },
  "language_info": {
   "codemirror_mode": {
    "name": "ipython",
    "version": 3
   },
   "file_extension": ".py",
   "mimetype": "text/x-python",
   "name": "python",
   "nbconvert_exporter": "python",
   "pygments_lexer": "ipython3",
   "version": "3.7.3"
  }
 },
 "nbformat": 4,
 "nbformat_minor": 2
}
